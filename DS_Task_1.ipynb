{
 "cells": [
  {
   "cell_type": "markdown",
   "id": "8e31961f-d915-4bca-a036-1cd3a3de1426",
   "metadata": {},
   "source": [
    "# Task 1\n",
    "*Create a bar chart or histogram to visualize the distribution of a categorical or continuous variable, such as the distribution of ages or genders in a population.*"
   ]
  },
  {
   "cell_type": "markdown",
   "id": "233c7f46-7ef2-4729-95b9-e889d46579e2",
   "metadata": {},
   "source": [
    "## About the Dataset\n",
    "We have taken a World Population Dataset consisting records of population from the year 2001 to 2022."
   ]
  },
  {
   "cell_type": "markdown",
   "id": "faf864ef-0453-4d7f-ad90-fb35cff0bbb1",
   "metadata": {},
   "source": [
    "## Importing Necessary Libraries"
   ]
  },
  {
   "cell_type": "code",
   "execution_count": 1,
   "id": "bf0f8f61-09b4-4a8c-8d9f-c66b30f55bf5",
   "metadata": {},
   "outputs": [],
   "source": [
    "import pandas as pa\n",
    "import numpy as nu\n",
    "import matplotlib.pyplot as plt\n",
    "import seaborn as sb"
   ]
  },
  {
   "cell_type": "markdown",
   "id": "71739150-c957-4f09-a37a-2d5b533847b9",
   "metadata": {},
   "source": [
    "### Reading the Dataset"
   ]
  },
  {
   "cell_type": "code",
   "execution_count": 2,
   "id": "bd052d60-169d-4135-8dda-de968ba1b77a",
   "metadata": {},
   "outputs": [],
   "source": [
    "da=pa.read_csv(r\"D:\\MBA-MMS\\Internships\\Prodigy InfoTech\\Task 1\\worldpopulationdata.csv\")"
   ]
  },
  {
   "cell_type": "markdown",
   "id": "8aac73f6-47f2-45ee-aad0-7a02431c9682",
   "metadata": {},
   "source": [
    "### Checking the First 5 Rows"
   ]
  },
  {
   "cell_type": "code",
   "execution_count": 3,
   "id": "03a040e4-2a7b-4ee7-bc52-6fb16b19859e",
   "metadata": {},
   "outputs": [
    {
     "data": {
      "text/html": [
       "<div>\n",
       "<style scoped>\n",
       "    .dataframe tbody tr th:only-of-type {\n",
       "        vertical-align: middle;\n",
       "    }\n",
       "\n",
       "    .dataframe tbody tr th {\n",
       "        vertical-align: top;\n",
       "    }\n",
       "\n",
       "    .dataframe thead th {\n",
       "        text-align: right;\n",
       "    }\n",
       "</style>\n",
       "<table border=\"1\" class=\"dataframe\">\n",
       "  <thead>\n",
       "    <tr style=\"text-align: right;\">\n",
       "      <th></th>\n",
       "      <th>Series Name</th>\n",
       "      <th>Series Code</th>\n",
       "      <th>Country Name</th>\n",
       "      <th>Country Code</th>\n",
       "      <th>2022</th>\n",
       "      <th>2021</th>\n",
       "      <th>2020</th>\n",
       "      <th>2019</th>\n",
       "      <th>2018</th>\n",
       "      <th>2017</th>\n",
       "      <th>...</th>\n",
       "      <th>2010</th>\n",
       "      <th>2009</th>\n",
       "      <th>2008</th>\n",
       "      <th>2007</th>\n",
       "      <th>2006</th>\n",
       "      <th>2005</th>\n",
       "      <th>2004</th>\n",
       "      <th>2003</th>\n",
       "      <th>2002</th>\n",
       "      <th>2001</th>\n",
       "    </tr>\n",
       "  </thead>\n",
       "  <tbody>\n",
       "    <tr>\n",
       "      <th>0</th>\n",
       "      <td>Population, total</td>\n",
       "      <td>SP.POP.TOTL</td>\n",
       "      <td>Afghanistan</td>\n",
       "      <td>AFG</td>\n",
       "      <td>41128771.0</td>\n",
       "      <td>40099462.0</td>\n",
       "      <td>38972230.0</td>\n",
       "      <td>37769499.0</td>\n",
       "      <td>36686784.0</td>\n",
       "      <td>35643418.0</td>\n",
       "      <td>...</td>\n",
       "      <td>28189672.0</td>\n",
       "      <td>27385307.0</td>\n",
       "      <td>26427199.0</td>\n",
       "      <td>25903301.0</td>\n",
       "      <td>25442944.0</td>\n",
       "      <td>24411191.0</td>\n",
       "      <td>23553551.0</td>\n",
       "      <td>22645130.0</td>\n",
       "      <td>21000256.0</td>\n",
       "      <td>19688632.0</td>\n",
       "    </tr>\n",
       "    <tr>\n",
       "      <th>1</th>\n",
       "      <td>Population, total</td>\n",
       "      <td>SP.POP.TOTL</td>\n",
       "      <td>Albania</td>\n",
       "      <td>ALB</td>\n",
       "      <td>2775634.0</td>\n",
       "      <td>2811666.0</td>\n",
       "      <td>2837849.0</td>\n",
       "      <td>2854191.0</td>\n",
       "      <td>2866376.0</td>\n",
       "      <td>2873457.0</td>\n",
       "      <td>...</td>\n",
       "      <td>2913021.0</td>\n",
       "      <td>2927519.0</td>\n",
       "      <td>2947314.0</td>\n",
       "      <td>2970017.0</td>\n",
       "      <td>2992547.0</td>\n",
       "      <td>3011487.0</td>\n",
       "      <td>3026939.0</td>\n",
       "      <td>3039616.0</td>\n",
       "      <td>3051010.0</td>\n",
       "      <td>3060173.0</td>\n",
       "    </tr>\n",
       "    <tr>\n",
       "      <th>2</th>\n",
       "      <td>Population, total</td>\n",
       "      <td>SP.POP.TOTL</td>\n",
       "      <td>Algeria</td>\n",
       "      <td>DZA</td>\n",
       "      <td>44903225.0</td>\n",
       "      <td>44177969.0</td>\n",
       "      <td>43451666.0</td>\n",
       "      <td>42705368.0</td>\n",
       "      <td>41927007.0</td>\n",
       "      <td>41136546.0</td>\n",
       "      <td>...</td>\n",
       "      <td>35856344.0</td>\n",
       "      <td>35196037.0</td>\n",
       "      <td>34569592.0</td>\n",
       "      <td>33983827.0</td>\n",
       "      <td>33435080.0</td>\n",
       "      <td>32956690.0</td>\n",
       "      <td>32510186.0</td>\n",
       "      <td>32055883.0</td>\n",
       "      <td>31624696.0</td>\n",
       "      <td>31200985.0</td>\n",
       "    </tr>\n",
       "    <tr>\n",
       "      <th>3</th>\n",
       "      <td>Population, total</td>\n",
       "      <td>SP.POP.TOTL</td>\n",
       "      <td>American Samoa</td>\n",
       "      <td>ASM</td>\n",
       "      <td>44273.0</td>\n",
       "      <td>45035.0</td>\n",
       "      <td>46189.0</td>\n",
       "      <td>47321.0</td>\n",
       "      <td>48424.0</td>\n",
       "      <td>49463.0</td>\n",
       "      <td>...</td>\n",
       "      <td>54849.0</td>\n",
       "      <td>55366.0</td>\n",
       "      <td>55891.0</td>\n",
       "      <td>56383.0</td>\n",
       "      <td>56837.0</td>\n",
       "      <td>57254.0</td>\n",
       "      <td>57626.0</td>\n",
       "      <td>57941.0</td>\n",
       "      <td>58177.0</td>\n",
       "      <td>58324.0</td>\n",
       "    </tr>\n",
       "    <tr>\n",
       "      <th>4</th>\n",
       "      <td>Population, total</td>\n",
       "      <td>SP.POP.TOTL</td>\n",
       "      <td>Andorra</td>\n",
       "      <td>AND</td>\n",
       "      <td>79824.0</td>\n",
       "      <td>79034.0</td>\n",
       "      <td>77700.0</td>\n",
       "      <td>76343.0</td>\n",
       "      <td>75013.0</td>\n",
       "      <td>73837.0</td>\n",
       "      <td>...</td>\n",
       "      <td>71519.0</td>\n",
       "      <td>73852.0</td>\n",
       "      <td>76055.0</td>\n",
       "      <td>78168.0</td>\n",
       "      <td>80221.0</td>\n",
       "      <td>79826.0</td>\n",
       "      <td>76933.0</td>\n",
       "      <td>73907.0</td>\n",
       "      <td>70849.0</td>\n",
       "      <td>67820.0</td>\n",
       "    </tr>\n",
       "  </tbody>\n",
       "</table>\n",
       "<p>5 rows × 26 columns</p>\n",
       "</div>"
      ],
      "text/plain": [
       "         Series Name  Series Code    Country Name Country Code        2022  \\\n",
       "0  Population, total  SP.POP.TOTL     Afghanistan          AFG  41128771.0   \n",
       "1  Population, total  SP.POP.TOTL         Albania          ALB   2775634.0   \n",
       "2  Population, total  SP.POP.TOTL         Algeria          DZA  44903225.0   \n",
       "3  Population, total  SP.POP.TOTL  American Samoa          ASM     44273.0   \n",
       "4  Population, total  SP.POP.TOTL         Andorra          AND     79824.0   \n",
       "\n",
       "         2021        2020        2019        2018        2017  ...  \\\n",
       "0  40099462.0  38972230.0  37769499.0  36686784.0  35643418.0  ...   \n",
       "1   2811666.0   2837849.0   2854191.0   2866376.0   2873457.0  ...   \n",
       "2  44177969.0  43451666.0  42705368.0  41927007.0  41136546.0  ...   \n",
       "3     45035.0     46189.0     47321.0     48424.0     49463.0  ...   \n",
       "4     79034.0     77700.0     76343.0     75013.0     73837.0  ...   \n",
       "\n",
       "         2010        2009        2008        2007        2006        2005  \\\n",
       "0  28189672.0  27385307.0  26427199.0  25903301.0  25442944.0  24411191.0   \n",
       "1   2913021.0   2927519.0   2947314.0   2970017.0   2992547.0   3011487.0   \n",
       "2  35856344.0  35196037.0  34569592.0  33983827.0  33435080.0  32956690.0   \n",
       "3     54849.0     55366.0     55891.0     56383.0     56837.0     57254.0   \n",
       "4     71519.0     73852.0     76055.0     78168.0     80221.0     79826.0   \n",
       "\n",
       "         2004        2003        2002        2001  \n",
       "0  23553551.0  22645130.0  21000256.0  19688632.0  \n",
       "1   3026939.0   3039616.0   3051010.0   3060173.0  \n",
       "2  32510186.0  32055883.0  31624696.0  31200985.0  \n",
       "3     57626.0     57941.0     58177.0     58324.0  \n",
       "4     76933.0     73907.0     70849.0     67820.0  \n",
       "\n",
       "[5 rows x 26 columns]"
      ]
     },
     "execution_count": 3,
     "metadata": {},
     "output_type": "execute_result"
    }
   ],
   "source": [
    "da.head(5)"
   ]
  },
  {
   "cell_type": "markdown",
   "id": "f8fa1200-ee99-48b5-abd8-b07e30db0d67",
   "metadata": {},
   "source": [
    "### Checking the Last 5 Rows"
   ]
  },
  {
   "cell_type": "code",
   "execution_count": 4,
   "id": "78223dab-4959-4074-8d1b-07f85c02a3d1",
   "metadata": {},
   "outputs": [
    {
     "data": {
      "text/html": [
       "<div>\n",
       "<style scoped>\n",
       "    .dataframe tbody tr th:only-of-type {\n",
       "        vertical-align: middle;\n",
       "    }\n",
       "\n",
       "    .dataframe tbody tr th {\n",
       "        vertical-align: top;\n",
       "    }\n",
       "\n",
       "    .dataframe thead th {\n",
       "        text-align: right;\n",
       "    }\n",
       "</style>\n",
       "<table border=\"1\" class=\"dataframe\">\n",
       "  <thead>\n",
       "    <tr style=\"text-align: right;\">\n",
       "      <th></th>\n",
       "      <th>Series Name</th>\n",
       "      <th>Series Code</th>\n",
       "      <th>Country Name</th>\n",
       "      <th>Country Code</th>\n",
       "      <th>2022</th>\n",
       "      <th>2021</th>\n",
       "      <th>2020</th>\n",
       "      <th>2019</th>\n",
       "      <th>2018</th>\n",
       "      <th>2017</th>\n",
       "      <th>...</th>\n",
       "      <th>2010</th>\n",
       "      <th>2009</th>\n",
       "      <th>2008</th>\n",
       "      <th>2007</th>\n",
       "      <th>2006</th>\n",
       "      <th>2005</th>\n",
       "      <th>2004</th>\n",
       "      <th>2003</th>\n",
       "      <th>2002</th>\n",
       "      <th>2001</th>\n",
       "    </tr>\n",
       "  </thead>\n",
       "  <tbody>\n",
       "    <tr>\n",
       "      <th>1080</th>\n",
       "      <td>Population, male (% of total population)</td>\n",
       "      <td>SP.POP.TOTL.MA.ZS</td>\n",
       "      <td>Virgin Islands (U.S.)</td>\n",
       "      <td>VIR</td>\n",
       "      <td>46.613382</td>\n",
       "      <td>46.764444</td>\n",
       "      <td>46.914637</td>\n",
       "      <td>47.057307</td>\n",
       "      <td>47.185912</td>\n",
       "      <td>47.314214</td>\n",
       "      <td>...</td>\n",
       "      <td>47.801059</td>\n",
       "      <td>47.834540</td>\n",
       "      <td>47.870063</td>\n",
       "      <td>47.877604</td>\n",
       "      <td>47.870702</td>\n",
       "      <td>47.852669</td>\n",
       "      <td>47.825150</td>\n",
       "      <td>47.789128</td>\n",
       "      <td>47.754932</td>\n",
       "      <td>47.725126</td>\n",
       "    </tr>\n",
       "    <tr>\n",
       "      <th>1081</th>\n",
       "      <td>Population, male (% of total population)</td>\n",
       "      <td>SP.POP.TOTL.MA.ZS</td>\n",
       "      <td>West Bank and Gaza</td>\n",
       "      <td>PSE</td>\n",
       "      <td>49.893678</td>\n",
       "      <td>49.877839</td>\n",
       "      <td>49.858957</td>\n",
       "      <td>49.835542</td>\n",
       "      <td>49.811374</td>\n",
       "      <td>49.785969</td>\n",
       "      <td>...</td>\n",
       "      <td>49.876336</td>\n",
       "      <td>49.898677</td>\n",
       "      <td>49.921445</td>\n",
       "      <td>49.947631</td>\n",
       "      <td>49.983323</td>\n",
       "      <td>50.028649</td>\n",
       "      <td>50.089953</td>\n",
       "      <td>50.167544</td>\n",
       "      <td>50.248196</td>\n",
       "      <td>50.321633</td>\n",
       "    </tr>\n",
       "    <tr>\n",
       "      <th>1082</th>\n",
       "      <td>Population, male (% of total population)</td>\n",
       "      <td>SP.POP.TOTL.MA.ZS</td>\n",
       "      <td>Yemen, Rep.</td>\n",
       "      <td>YEM</td>\n",
       "      <td>50.519031</td>\n",
       "      <td>50.538516</td>\n",
       "      <td>50.554317</td>\n",
       "      <td>50.571320</td>\n",
       "      <td>50.596614</td>\n",
       "      <td>50.616964</td>\n",
       "      <td>...</td>\n",
       "      <td>50.594170</td>\n",
       "      <td>50.582692</td>\n",
       "      <td>50.568876</td>\n",
       "      <td>50.553633</td>\n",
       "      <td>50.539012</td>\n",
       "      <td>50.522514</td>\n",
       "      <td>50.502720</td>\n",
       "      <td>50.481666</td>\n",
       "      <td>50.459941</td>\n",
       "      <td>50.437238</td>\n",
       "    </tr>\n",
       "    <tr>\n",
       "      <th>1083</th>\n",
       "      <td>Population, male (% of total population)</td>\n",
       "      <td>SP.POP.TOTL.MA.ZS</td>\n",
       "      <td>Zambia</td>\n",
       "      <td>ZMB</td>\n",
       "      <td>49.344602</td>\n",
       "      <td>49.344951</td>\n",
       "      <td>49.338301</td>\n",
       "      <td>49.326233</td>\n",
       "      <td>49.309087</td>\n",
       "      <td>49.288400</td>\n",
       "      <td>...</td>\n",
       "      <td>49.056379</td>\n",
       "      <td>48.981404</td>\n",
       "      <td>48.888443</td>\n",
       "      <td>48.784780</td>\n",
       "      <td>48.676944</td>\n",
       "      <td>48.571398</td>\n",
       "      <td>48.476900</td>\n",
       "      <td>48.393634</td>\n",
       "      <td>48.313646</td>\n",
       "      <td>48.229968</td>\n",
       "    </tr>\n",
       "    <tr>\n",
       "      <th>1084</th>\n",
       "      <td>Population, male (% of total population)</td>\n",
       "      <td>SP.POP.TOTL.MA.ZS</td>\n",
       "      <td>Zimbabwe</td>\n",
       "      <td>ZWE</td>\n",
       "      <td>47.214139</td>\n",
       "      <td>47.167153</td>\n",
       "      <td>47.130679</td>\n",
       "      <td>47.099796</td>\n",
       "      <td>47.076238</td>\n",
       "      <td>47.051613</td>\n",
       "      <td>...</td>\n",
       "      <td>46.995893</td>\n",
       "      <td>47.049546</td>\n",
       "      <td>47.106068</td>\n",
       "      <td>47.166435</td>\n",
       "      <td>47.190963</td>\n",
       "      <td>47.231433</td>\n",
       "      <td>47.324096</td>\n",
       "      <td>47.387633</td>\n",
       "      <td>47.428426</td>\n",
       "      <td>47.460469</td>\n",
       "    </tr>\n",
       "  </tbody>\n",
       "</table>\n",
       "<p>5 rows × 26 columns</p>\n",
       "</div>"
      ],
      "text/plain": [
       "                                   Series Name        Series Code  \\\n",
       "1080  Population, male (% of total population)  SP.POP.TOTL.MA.ZS   \n",
       "1081  Population, male (% of total population)  SP.POP.TOTL.MA.ZS   \n",
       "1082  Population, male (% of total population)  SP.POP.TOTL.MA.ZS   \n",
       "1083  Population, male (% of total population)  SP.POP.TOTL.MA.ZS   \n",
       "1084  Population, male (% of total population)  SP.POP.TOTL.MA.ZS   \n",
       "\n",
       "               Country Name Country Code       2022       2021       2020  \\\n",
       "1080  Virgin Islands (U.S.)          VIR  46.613382  46.764444  46.914637   \n",
       "1081     West Bank and Gaza          PSE  49.893678  49.877839  49.858957   \n",
       "1082            Yemen, Rep.          YEM  50.519031  50.538516  50.554317   \n",
       "1083                 Zambia          ZMB  49.344602  49.344951  49.338301   \n",
       "1084               Zimbabwe          ZWE  47.214139  47.167153  47.130679   \n",
       "\n",
       "           2019       2018       2017  ...       2010       2009       2008  \\\n",
       "1080  47.057307  47.185912  47.314214  ...  47.801059  47.834540  47.870063   \n",
       "1081  49.835542  49.811374  49.785969  ...  49.876336  49.898677  49.921445   \n",
       "1082  50.571320  50.596614  50.616964  ...  50.594170  50.582692  50.568876   \n",
       "1083  49.326233  49.309087  49.288400  ...  49.056379  48.981404  48.888443   \n",
       "1084  47.099796  47.076238  47.051613  ...  46.995893  47.049546  47.106068   \n",
       "\n",
       "           2007       2006       2005       2004       2003       2002  \\\n",
       "1080  47.877604  47.870702  47.852669  47.825150  47.789128  47.754932   \n",
       "1081  49.947631  49.983323  50.028649  50.089953  50.167544  50.248196   \n",
       "1082  50.553633  50.539012  50.522514  50.502720  50.481666  50.459941   \n",
       "1083  48.784780  48.676944  48.571398  48.476900  48.393634  48.313646   \n",
       "1084  47.166435  47.190963  47.231433  47.324096  47.387633  47.428426   \n",
       "\n",
       "           2001  \n",
       "1080  47.725126  \n",
       "1081  50.321633  \n",
       "1082  50.437238  \n",
       "1083  48.229968  \n",
       "1084  47.460469  \n",
       "\n",
       "[5 rows x 26 columns]"
      ]
     },
     "execution_count": 4,
     "metadata": {},
     "output_type": "execute_result"
    }
   ],
   "source": [
    "da.tail(5)"
   ]
  },
  {
   "cell_type": "markdown",
   "id": "3ccfc7ea-4b9b-484c-8cc6-6bd9b474b794",
   "metadata": {},
   "source": [
    "### Checking the Columns of the Dataset"
   ]
  },
  {
   "cell_type": "code",
   "execution_count": 5,
   "id": "05d2d633-0c3e-4fa1-8060-e51e63eebf6c",
   "metadata": {},
   "outputs": [
    {
     "data": {
      "text/plain": [
       "Index(['Series Name', 'Series Code', 'Country Name', 'Country Code', '2022',\n",
       "       '2021', '2020', '2019', '2018', '2017', '2016', '2015', '2014', '2013',\n",
       "       '2012', '2011', '2010', '2009', '2008', '2007', '2006', '2005', '2004',\n",
       "       '2003', '2002', '2001'],\n",
       "      dtype='object')"
      ]
     },
     "execution_count": 5,
     "metadata": {},
     "output_type": "execute_result"
    }
   ],
   "source": [
    "da.columns"
   ]
  },
  {
   "cell_type": "markdown",
   "id": "93d4ce01-52d9-437f-ad8b-c0dcc93dea3a",
   "metadata": {},
   "source": [
    "### Some Information about the Dataset"
   ]
  },
  {
   "cell_type": "code",
   "execution_count": 6,
   "id": "280ade02-0c86-4d25-81be-db4479d42fa1",
   "metadata": {},
   "outputs": [
    {
     "name": "stdout",
     "output_type": "stream",
     "text": [
      "<class 'pandas.core.frame.DataFrame'>\n",
      "RangeIndex: 1085 entries, 0 to 1084\n",
      "Data columns (total 26 columns):\n",
      " #   Column        Non-Null Count  Dtype  \n",
      "---  ------        --------------  -----  \n",
      " 0   Series Name   1085 non-null   object \n",
      " 1   Series Code   1085 non-null   object \n",
      " 2   Country Name  1085 non-null   object \n",
      " 3   Country Code  1085 non-null   object \n",
      " 4   2022          1085 non-null   float64\n",
      " 5   2021          1085 non-null   float64\n",
      " 6   2020          1085 non-null   float64\n",
      " 7   2019          1085 non-null   float64\n",
      " 8   2018          1085 non-null   float64\n",
      " 9   2017          1085 non-null   float64\n",
      " 10  2016          1085 non-null   float64\n",
      " 11  2015          1085 non-null   float64\n",
      " 12  2014          1085 non-null   float64\n",
      " 13  2013          1085 non-null   float64\n",
      " 14  2012          1085 non-null   float64\n",
      " 15  2011          1085 non-null   float64\n",
      " 16  2010          1085 non-null   float64\n",
      " 17  2009          1085 non-null   float64\n",
      " 18  2008          1085 non-null   float64\n",
      " 19  2007          1085 non-null   float64\n",
      " 20  2006          1085 non-null   float64\n",
      " 21  2005          1085 non-null   float64\n",
      " 22  2004          1085 non-null   float64\n",
      " 23  2003          1085 non-null   float64\n",
      " 24  2002          1085 non-null   float64\n",
      " 25  2001          1085 non-null   float64\n",
      "dtypes: float64(22), object(4)\n",
      "memory usage: 220.5+ KB\n"
     ]
    }
   ],
   "source": [
    "da.info()"
   ]
  },
  {
   "cell_type": "markdown",
   "id": "d50ffaba-0331-418c-a8cd-87231176a484",
   "metadata": {},
   "source": [
    "### Checking for Duplicate Rows"
   ]
  },
  {
   "cell_type": "code",
   "execution_count": 7,
   "id": "1bbfc6a0-0b7d-4ab5-a255-24a858abdb76",
   "metadata": {},
   "outputs": [
    {
     "data": {
      "text/plain": [
       "np.int64(0)"
      ]
     },
     "execution_count": 7,
     "metadata": {},
     "output_type": "execute_result"
    }
   ],
   "source": [
    "da.duplicated().sum()"
   ]
  },
  {
   "cell_type": "markdown",
   "id": "79d5c2fd-5335-4c57-abe9-2f3498167d61",
   "metadata": {},
   "source": [
    "`Observation`\n",
    "There are no Duplicate Rows in the Dataset"
   ]
  },
  {
   "cell_type": "markdown",
   "id": "4dc235d1-9281-4d7f-809e-de2c93f2f0b2",
   "metadata": {},
   "source": [
    "### Checking for Missing Values"
   ]
  },
  {
   "cell_type": "code",
   "execution_count": 8,
   "id": "2bdb1b2f-c8d7-40a0-81f1-e5fdb8d16001",
   "metadata": {},
   "outputs": [
    {
     "data": {
      "text/plain": [
       "Series Name     0\n",
       "Series Code     0\n",
       "Country Name    0\n",
       "Country Code    0\n",
       "2022            0\n",
       "2021            0\n",
       "2020            0\n",
       "2019            0\n",
       "2018            0\n",
       "2017            0\n",
       "2016            0\n",
       "2015            0\n",
       "2014            0\n",
       "2013            0\n",
       "2012            0\n",
       "2011            0\n",
       "2010            0\n",
       "2009            0\n",
       "2008            0\n",
       "2007            0\n",
       "2006            0\n",
       "2005            0\n",
       "2004            0\n",
       "2003            0\n",
       "2002            0\n",
       "2001            0\n",
       "dtype: int64"
      ]
     },
     "execution_count": 8,
     "metadata": {},
     "output_type": "execute_result"
    }
   ],
   "source": [
    "da.isna().sum()"
   ]
  },
  {
   "cell_type": "markdown",
   "id": "6a80a24c-6be2-4850-ab60-4f3d3e9ada59",
   "metadata": {},
   "source": [
    "`Observation`\n",
    "There are no Missing Values in the Dataset"
   ]
  },
  {
   "cell_type": "markdown",
   "id": "23093a2f-5395-4f3f-88ad-30df9a10dcd4",
   "metadata": {},
   "source": [
    "### Checking Unique Values for Columns"
   ]
  },
  {
   "cell_type": "markdown",
   "id": "16653e42-fe91-485f-8505-2c387658d9f0",
   "metadata": {},
   "source": [
    "print(da['Country Name'].unique())\n",
    "print(\"\\n Total No. of Unique Countries:\", da['Country Name'].nunique())"
   ]
  },
  {
   "cell_type": "markdown",
   "id": "f5852872-2401-4960-9680-c27a9bcb16db",
   "metadata": {},
   "source": [
    "### Dropping Unnecessary Columns"
   ]
  },
  {
   "cell_type": "code",
   "execution_count": 9,
   "id": "35e77469-ca61-4c6a-a5dc-15ea1560a8f3",
   "metadata": {},
   "outputs": [],
   "source": [
    "da.drop(['Series Name','Country Code'],axis=1, inplace=True)"
   ]
  },
  {
   "cell_type": "code",
   "execution_count": 10,
   "id": "62cbdb2a-27a0-498d-8c42-d6bba3e1e62d",
   "metadata": {},
   "outputs": [
    {
     "data": {
      "text/plain": [
       "Index(['Series Code', 'Country Name', '2022', '2021', '2020', '2019', '2018',\n",
       "       '2017', '2016', '2015', '2014', '2013', '2012', '2011', '2010', '2009',\n",
       "       '2008', '2007', '2006', '2005', '2004', '2003', '2002', '2001'],\n",
       "      dtype='object')"
      ]
     },
     "execution_count": 10,
     "metadata": {},
     "output_type": "execute_result"
    }
   ],
   "source": [
    "da.columns"
   ]
  },
  {
   "cell_type": "markdown",
   "id": "fd84ff46-2575-447c-8e07-b35420bad454",
   "metadata": {},
   "source": [
    "### Extraction of Top 10 Countries in Terms of Population(2022)"
   ]
  },
  {
   "cell_type": "code",
   "execution_count": 11,
   "id": "2f5d87ee-c527-47e9-922a-358baaf942b9",
   "metadata": {},
   "outputs": [
    {
     "name": "stdout",
     "output_type": "stream",
     "text": [
      "Top ten countries of total population\n",
      "\n",
      "           Country Name\n",
      "89                India\n",
      "41                China\n",
      "206       United States\n",
      "90            Indonesia\n",
      "149            Pakistan\n",
      "144             Nigeria\n",
      "26               Brazil\n",
      "15           Bangladesh\n",
      "161  Russian Federation\n",
      "127              Mexico\n"
     ]
    }
   ],
   "source": [
    "# Filter data for total population\n",
    "total_population_data = da[da['Series Code'] == 'SP.POP.TOTL']\n",
    "\n",
    "# Sort data based on the total population for 2022\n",
    "total_population_sorted = total_population_data.sort_values(by=\"2022\", ascending=False)\n",
    "\n",
    "# Get the top ten countries with the highest total population for 2022\n",
    "total_top_ten_countries = total_population_sorted.head(10)\n",
    "print(\"Top ten countries of total population\\n\")\n",
    "print(total_top_ten_countries[['Country Name']] )"
   ]
  },
  {
   "cell_type": "markdown",
   "id": "199a5c20-93d1-4a62-9212-ff1f72b5b80e",
   "metadata": {},
   "source": [
    "### Visualizing Top 10 Countries in Terms of Population(2022) with the Help of Bar Chart"
   ]
  },
  {
   "cell_type": "code",
   "execution_count": 12,
   "id": "5c9568a5-8be4-4617-968b-a718e605d284",
   "metadata": {},
   "outputs": [
    {
     "data": {
      "image/png": "[encoded data removed]",
      "text/plain": [
       "<Figure size 1500x600 with 1 Axes>"
      ]
     },
     "metadata": {},
     "output_type": "display_data"
    }
   ],
   "source": [
    "# Create the bar plot\n",
    "plt.figure(figsize=(15, 6))\n",
    "plt.subplot(2,2,1)\n",
    "sb.barplot(x=\"2022\", y=\"Country Name\", data=total_top_ten_countries, palette=\"bright\", hue=\"Country Name\", legend=False)\n",
    "plt.title(\"Top Ten Countries of Total Population (2022)\",fontsize=10)\n",
    "plt.xlabel(\"Total Population\",fontsize=10)\n",
    "plt.ylabel(\"Country\",fontsize=10)\n",
    "plt.show()"
   ]
  },
  {
   "cell_type": "markdown",
   "id": "cf9b2c2b-b18a-4e31-bc81-7a54be5b78d2",
   "metadata": {},
   "source": [
    "### Extraction of Top 10 Countries with Highest Male Population(2022)"
   ]
  },
  {
   "cell_type": "code",
   "execution_count": 13,
   "id": "a22d2aae-1c0a-45d2-a864-51eab64665e4",
   "metadata": {},
   "outputs": [
    {
     "name": "stdout",
     "output_type": "stream",
     "text": [
      "Top ten countries of male population\n",
      "           Country Name\n",
      "523               India\n",
      "475               China\n",
      "640       United States\n",
      "524           Indonesia\n",
      "583            Pakistan\n",
      "578             Nigeria\n",
      "460              Brazil\n",
      "449          Bangladesh\n",
      "595  Russian Federation\n",
      "561              Mexico\n"
     ]
    }
   ],
   "source": [
    "# Filter data for male population\n",
    "male_population_data = da[da[\"Series Code\"] == \"SP.POP.TOTL.MA.IN\"]\n",
    "\n",
    "# Sort data based on the male population for 2022\n",
    "male_population_sorted = male_population_data.sort_values(by=\"2022\", ascending=False)\n",
    "\n",
    "# Get the top ten countries with the highest male population for 2022\n",
    "male_top_ten_countries = male_population_sorted.head(10)\n",
    "print(\"Top ten countries of male population\")\n",
    "print(male_top_ten_countries[['Country Name']] )"
   ]
  },
  {
   "cell_type": "markdown",
   "id": "9802478e-cd9b-42ff-957d-bda2d632ed93",
   "metadata": {},
   "source": [
    "### Visualizing Top 10 Countries with Highest Male Population(2022) with the Help of Bar Chart"
   ]
  },
  {
   "cell_type": "code",
   "execution_count": 14,
   "id": "15645f4b-c633-4400-8e9c-4d59722e2f8f",
   "metadata": {},
   "outputs": [
    {
     "data": {
      "image/png": "[encoded data removed]",
      "text/plain": [
       "<Figure size 1500x600 with 1 Axes>"
      ]
     },
     "metadata": {},
     "output_type": "display_data"
    }
   ],
   "source": [
    "# Create the bar plot\n",
    "plt.figure(figsize=(15, 6))\n",
    "plt.subplot(2,2,1)\n",
    "sb.barplot(x=\"2022\", y=\"Country Name\", data=male_top_ten_countries, palette=\"mako\", hue=\"Country Name\", legend=False)\n",
    "plt.title(\"Top Ten Countries with Highest Male Population (2022)\",size=10)\n",
    "plt.xlabel(\"Male Population\",size=10)\n",
    "plt.ylabel(\"Country\",size=10)\n",
    "plt.show()"
   ]
  },
  {
   "cell_type": "markdown",
   "id": "5235f566-f24b-4954-99d2-bad920b9fb59",
   "metadata": {},
   "source": [
    "### Extraction of Top 10 Countries with Highest Female Population(2022)"
   ]
  },
  {
   "cell_type": "code",
   "execution_count": 15,
   "id": "cbe175b1-3331-4102-b786-aa00c044a2ae",
   "metadata": {},
   "outputs": [
    {
     "name": "stdout",
     "output_type": "stream",
     "text": [
      "Top ten countries of female population\n",
      "           Country Name\n",
      "258               China\n",
      "306               India\n",
      "423       United States\n",
      "307           Indonesia\n",
      "366            Pakistan\n",
      "243              Brazil\n",
      "361             Nigeria\n",
      "232          Bangladesh\n",
      "378  Russian Federation\n",
      "344              Mexico\n"
     ]
    }
   ],
   "source": [
    "# Filter data for female population\n",
    "female_population_data = da[da[\"Series Code\"] == \"SP.POP.TOTL.FE.IN\"]\n",
    "\n",
    "# Sort data based on the female population for 2022\n",
    "female_population_sorted = female_population_data.sort_values(by=\"2022\", ascending=False)\n",
    "\n",
    "# Get the top ten countries with the highest female population for 2022\n",
    "female_top_ten_countries = female_population_sorted.head(10)\n",
    "print(\"Top ten countries of female population\")\n",
    "print(female_top_ten_countries[['Country Name']] )"
   ]
  },
  {
   "cell_type": "code",
   "execution_count": 16,
   "id": "fdadea18-f8c1-40b6-9b54-fb5b163b2d4f",
   "metadata": {},
   "outputs": [
    {
     "data": {
      "image/png": "[encoded data removed]",
      "text/plain": [
       "<Figure size 1500x600 with 1 Axes>"
      ]
     },
     "metadata": {},
     "output_type": "display_data"
    }
   ],
   "source": [
    "# Create the bar plot\n",
    "plt.figure(figsize=(15, 6))\n",
    "plt.subplot(2,2,2)\n",
    "sb.barplot(x=\"2022\", y=\"Country Name\", data=female_top_ten_countries, palette=\"rocket\", hue=\"Country Name\")\n",
    "plt.title(\"Top Ten Countries with Highest Female Population (2022)\",size=10)\n",
    "plt.xlabel(\"Female Population\",size=10)\n",
    "plt.ylabel(\"Country\",size=10)\n",
    "plt.show()"
   ]
  }
 ],
 "metadata": {
  "kernelspec": {
   "display_name": "Python 3 (ipykernel)",
   "language": "python",
   "name": "python3"
  },
  "language_info": {
   "codemirror_mode": {
    "name": "ipython",
    "version": 3
   },
   "file_extension": ".py",
   "mimetype": "text/x-python",
   "name": "python",
   "nbconvert_exporter": "python",
   "pygments_lexer": "ipython3",
   "version": "3.12.4"
  }
 },
 "nbformat": 4,
 "nbformat_minor": 5
}
